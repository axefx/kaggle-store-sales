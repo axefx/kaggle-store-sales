{
 "cells": [
  {
   "cell_type": "markdown",
   "id": "240d9598-5067-41c2-966c-c5e809e8c743",
   "metadata": {},
   "source": [
    "# kaggle store sales competition notebook\n",
    "\n",
    "## exploratory notebook\n",
    "\n",
    "visit [https://www.kaggle.com/competitions/store-sales-time-series-forecasting/data](https://www.kaggle.com/competitions/store-sales-time-series-forecasting/data) to download data/store-sales-time-series-forecasting/*\n",
    "\n",
    "- holidays_events.csv,\n",
    "- oil.csv,\n",
    "- sample_submission.csv,\n",
    "- stores.csv,\n",
    "- test.csv, \n",
    "- train.csv,\n",
    "- transactions.csv\n"
   ]
  },
  {
   "cell_type": "code",
   "execution_count": 6,
   "id": "2c25423f-9148-4cd9-8afd-efab0ab7a018",
   "metadata": {},
   "outputs": [
    {
     "name": "stdout",
     "output_type": "stream",
     "text": [
      "holidays_events.csv, oil.csv, sample_submission.csv, stores.csv, test.csv, \n",
      "train.csv, transactions.csv\n"
     ]
    }
   ],
   "source": [
    "!ls -m ../data/store-sales-time-series-forecasting/"
   ]
  },
  {
   "cell_type": "code",
   "execution_count": null,
   "id": "7160dd4c-ce17-4ea9-8920-f388b2b1b803",
   "metadata": {},
   "outputs": [],
   "source": []
  }
 ],
 "metadata": {
  "kernelspec": {
   "display_name": "Python 3 (ipykernel)",
   "language": "python",
   "name": "python3"
  },
  "language_info": {
   "codemirror_mode": {
    "name": "ipython",
    "version": 3
   },
   "file_extension": ".py",
   "mimetype": "text/x-python",
   "name": "python",
   "nbconvert_exporter": "python",
   "pygments_lexer": "ipython3",
   "version": "3.10.4"
  }
 },
 "nbformat": 4,
 "nbformat_minor": 5
}
